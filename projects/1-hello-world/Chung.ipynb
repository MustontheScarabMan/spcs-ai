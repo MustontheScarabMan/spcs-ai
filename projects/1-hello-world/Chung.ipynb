{
 "cells": [
  {
   "cell_type": "markdown",
   "metadata": {},
   "source": [
    "    Hello, my name is Seiwoong Chung. My background in computer programming and Artificial Intelligence stems from my experience in my school's computer programming course which I thoroughly enjoyed. I have yet to dabble too much in in programming, but I do wish to learn C++ in the upcoming year. I have never used Python before, but am interested in learning how it works, and although using git is quite confusing I'm sure it will seem simple once I figure out how to utilize it. As for artificial intelligence, I have not worked with it to date, but I thought if I ever get the chance to make a game, I would love to apply a sophisticated artifical intelligence to it. It's quite thrilling to think about how something you created can complete tasks that would be impossible for you, trumping even the most skilled people in the world. There is no doubt that the creators of AlphaGo would lose in a game against a professional Go player, but the fruits of their labours is capable of going beyond their abilities, in fact beyond human abilities. While one may view winning a game of Go as trivial, to the people who created this program, this is an incredible triumph after great effort. I too would like to create something of that nature. I hope to use this program as my first leap into the field of Artificial Intelligence. I will admit that I am quite timid around strangers so I may have trouble fitting in, but hopefully I will be able to overcome this flaw and engage in social activities. Aside from programming, my hobbies include: writing, watching anime, playing video games, and playing a certain card game which I will refrain from going into detail about in this paragraph. Occasionally I try to read a Japanese light novel, but I only have one thing to say and that is: \"Japanese is too hard to read.\" I guess on that note I will conclude this rather mundane introduction."
   ]
  },
  {
   "cell_type": "code",
   "execution_count": 10,
   "metadata": {
    "collapsed": false
   },
   "outputs": [
    {
     "name": "stdout",
     "output_type": "stream",
     "text": [
      "Hello world! My name is Seiwoong Chung(lol)\n",
      "Feels like I did this exercise when learning Java\n"
     ]
    }
   ],
   "source": [
    "print(\"Hello world! My name is Seiwoong Chung(lol)\")\n",
    "print(\"Feels like I did this exercise when learning Java\")"
   ]
  },
  {
   "cell_type": "code",
   "execution_count": null,
   "metadata": {
    "collapsed": true
   },
   "outputs": [],
   "source": []
  }
 ],
 "metadata": {
  "kernelspec": {
   "display_name": "Python [Root]",
   "language": "python",
   "name": "Python [Root]"
  },
  "language_info": {
   "codemirror_mode": {
    "name": "ipython",
    "version": 3
   },
   "file_extension": ".py",
   "mimetype": "text/x-python",
   "name": "python",
   "nbconvert_exporter": "python",
   "pygments_lexer": "ipython3",
   "version": "3.5.2"
  }
 },
 "nbformat": 4,
 "nbformat_minor": 0
}
